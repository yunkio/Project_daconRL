{
 "cells": [
  {
   "cell_type": "code",
   "execution_count": 11,
   "metadata": {},
   "outputs": [
    {
     "name": "stderr",
     "output_type": "stream",
     "text": [
      "  0%|                                                   | 0/10 [00:00<?, ?it/s]"
     ]
    },
    {
     "name": "stdout",
     "output_type": "stream",
     "text": [
      "Average Score : 27.763270762689544\n",
      "Epoch Score : 27.763270762689544\n"
     ]
    },
    {
     "name": "stderr",
     "output_type": "stream",
     "text": [
      " 10%|████▎                                      | 1/10 [00:18<02:47, 18.62s/it]"
     ]
    },
    {
     "name": "stdout",
     "output_type": "stream",
     "text": [
      "Average Score : 27.95871138328726\n",
      "Epoch Score : 29.717676968666673\n"
     ]
    },
    {
     "name": "stderr",
     "output_type": "stream",
     "text": [
      " 20%|████████▌                                  | 2/10 [01:29<04:34, 34.33s/it]"
     ]
    },
    {
     "name": "stdout",
     "output_type": "stream",
     "text": [
      "Average Score : 28.10435790308282\n",
      "Epoch Score : 29.415176581242854\n"
     ]
    },
    {
     "name": "stderr",
     "output_type": "stream",
     "text": [
      " 30%|████████████▉                              | 3/10 [02:43<05:22, 46.11s/it]"
     ]
    },
    {
     "name": "stdout",
     "output_type": "stream",
     "text": [
      "Average Score : 28.53016278787354\n",
      "Epoch Score : 32.362406750990004\n"
     ]
    },
    {
     "name": "stderr",
     "output_type": "stream",
     "text": [
      " 40%|█████████████████▏                         | 4/10 [03:54<05:22, 53.67s/it]"
     ]
    },
    {
     "name": "stdout",
     "output_type": "stream",
     "text": [
      "Average Score : 28.847963301211216\n",
      "Epoch Score : 31.70816792125029\n"
     ]
    },
    {
     "name": "stderr",
     "output_type": "stream",
     "text": [
      " 50%|█████████████████████▌                     | 5/10 [05:00<04:46, 57.40s/it]"
     ]
    },
    {
     "name": "stdout",
     "output_type": "stream",
     "text": [
      "Average Score : 28.906302040625228\n",
      "Epoch Score : 29.431350695351295\n"
     ]
    },
    {
     "name": "stderr",
     "output_type": "stream",
     "text": [
      " 60%|█████████████████████████▊                 | 6/10 [06:03<03:55, 58.97s/it]"
     ]
    },
    {
     "name": "stdout",
     "output_type": "stream",
     "text": [
      "Average Score : 28.92029339284859\n",
      "Epoch Score : 29.046215562858826\n"
     ]
    },
    {
     "name": "stderr",
     "output_type": "stream",
     "text": [
      " 70%|██████████████████████████████             | 7/10 [07:06<03:00, 60.28s/it]"
     ]
    },
    {
     "name": "stdout",
     "output_type": "stream",
     "text": [
      "Average Score : 28.92230380915539\n",
      "Epoch Score : 28.940397555916597\n"
     ]
    },
    {
     "name": "stderr",
     "output_type": "stream",
     "text": [
      " 80%|██████████████████████████████████▍        | 8/10 [08:26<02:12, 66.10s/it]"
     ]
    },
    {
     "name": "stdout",
     "output_type": "stream",
     "text": [
      "Average Score : 28.988105418770765\n",
      "Epoch Score : 29.58031990530912\n"
     ]
    },
    {
     "name": "stderr",
     "output_type": "stream",
     "text": [
      " 90%|██████████████████████████████████████▋    | 9/10 [09:30<01:05, 65.54s/it]"
     ]
    },
    {
     "name": "stdout",
     "output_type": "stream",
     "text": [
      "Average Score : 29.070769717093434\n",
      "Epoch Score : 29.814748401997445\n"
     ]
    },
    {
     "name": "stderr",
     "output_type": "stream",
     "text": [
      "100%|██████████████████████████████████████████| 10/10 [10:36<00:00, 63.69s/it]\n"
     ]
    }
   ],
   "source": [
    "import environment\n",
    "import agent\n",
    "import pandas as pd\n",
    "import numpy as np\n",
    "from tqdm import tqdm\n",
    "from time import sleep\n",
    "import torch\n",
    "\n",
    "train = True\n",
    "render = False\n",
    "sub = True\n",
    "epoch = 10 if train else 1\n",
    "agent = agent.DQNAgent(state_size=139, action_size=23, train=True, state_dict=None)\n",
    "# agent = agent.DQNAgent(state_size=139, action_size=23, train=True, state_dict=\"weight/save_1.pth\")\n",
    "avg_reward, avg_score = 0, 0\n",
    "\n",
    "for i in tqdm(range(epoch)):\n",
    "    env = environment.FactoryEnv()\n",
    "    \n",
    "    if sub:\n",
    "        if i == epoch-1:\n",
    "            submission = pd.read_csv(\"data/sample_submission.csv\")\n",
    "            actions = []\n",
    "            process_n = []        \n",
    "\n",
    "    for step in range(2184):       \n",
    "        r = 0\n",
    "        s = 0\n",
    "        state = env.get_state()\n",
    "        mask = agent.get_mask(env)\n",
    "        action = agent.get_action(state,mask)\n",
    "        \n",
    "        if sub:\n",
    "            if i == epoch-1:\n",
    "                action_name = env.action_map[action]\n",
    "                action_process = 0\n",
    "                if 'PROCESS' in action_name:\n",
    "                    mylist = action_name.split(\"_\")\n",
    "                    action_name = mylist[0]\n",
    "                    action_process = float(mylist[1])                \n",
    "                if 'CHANGE' in action_name:\n",
    "                    action_name = \"CHANGE_\" + str(env.prev_change+1) + str(action-3)\n",
    "                actions.append(action_name)\n",
    "                process_n.append(action_process)\n",
    "      \n",
    "        if render:\n",
    "            print('Step : ' + str(env.step_count))\n",
    "            print('Action : ' + str(env.action_map[action]))\n",
    "            print('일일 생산량 : ' + str(env.day_process_n))\n",
    "            print('Score : ' + str(env.prev_score))\n",
    "            print('')\n",
    "            \n",
    "        next_state, reward, done = env.step(action)\n",
    "\n",
    "        if train:\n",
    "            agent.append_sample(state, action, reward, next_state, done)\n",
    "            agent.train_model()\n",
    "            r += reward \n",
    "            s += env.prev_score\n",
    "\n",
    "        if done:\n",
    "            break\n",
    "\n",
    "#     if not train:\n",
    "#         aaa = list()\n",
    "#         bbb = list()\n",
    "#         for j in range(4):\n",
    "#             env.J[j].save_graph(f\"performance/performance{j}.png\")\n",
    "#             info = np.array(env.J[j].info)\n",
    "#             t, w, o = info[:, 0], info[:, 1], info[:, 2]\n",
    "#             aaa.append(sum(w)/t[-1])\n",
    "#             bbb.append(sum(o)/t[-1])\n",
    "#         print(sum(aaa)/len(aaa))\n",
    "#         print(sum(bbb)/len(bbb))\n",
    "    \n",
    "    if train:\n",
    "        if i % 10 == 0:\n",
    "            torch.save(agent.model.state_dict(), f\"weight/save_{i + 1}.pth\")\n",
    "                \n",
    "\n",
    "        avg_reward = r if avg_reward == 0 else avg_reward * 0.9 + r * 0.1\n",
    "        avg_score = s if avg_score == 0 else avg_score * 0.9 + s * 0.1\n",
    "#         avg_long_wait = l if avg_long_wait == 0 else avg_long_wait * 0.9 + l * 0.1\n",
    "        \n",
    "#         for j in range(4):\n",
    "#             reward_info[j].append(avg_rewards[j])\n",
    "#             longest_wait[j].append(avg_long_wait[j])\n",
    "\n",
    "#         if i % 500 == 499:\n",
    "#             fig = plt.figure()\n",
    "#             for j in range(4):\n",
    "#                 plt.subplot(2, 2, j + 1)\n",
    "#                 plt.scatter(range(len(reward_info[j])), reward_info[j], s=1)\n",
    "\n",
    "#                 plt.savefig(f\"graph/reward{i + 1}.png\")\n",
    "#             plt.clf()\n",
    "\n",
    "#             for j in range(4):\n",
    "#                 plt.subplot(2, 2, j + 1)\n",
    "#                 plt.scatter(range(len(longest_wait[j])), longest_wait[j], s=1)\n",
    "\n",
    "#                 plt.savefig(f\"graph/longest_wait{i + 1}.png\")\n",
    "#             plt.clf()\n",
    "\n",
    "#             plt.scatter(range(len(step_info)), step_info, s=1)\n",
    "#             plt.savefig(f\"graph/step{i + 1}.png\")\n",
    "#             plt.clf()\n",
    "    print(\"Average Score : \" + str(avg_score))\n",
    "    print(\"Epoch Score : \" + str(env.prev_score))"
   ]
  },
  {
   "cell_type": "code",
   "execution_count": 12,
   "metadata": {},
   "outputs": [],
   "source": [
    "if sub:\n",
    "    submission.loc[:, \"Event_A\"] = actions\n",
    "    submission.loc[:, \"MOL_A\"] = process_n\n",
    "    submission.loc[:, \"Event_B\"] = actions\n",
    "    submission.loc[:, \"MOL_B\"] = process_n\n",
    "\n",
    "    PRTs = submission[[\"PRT_1\", \"PRT_2\", \"PRT_3\", \"PRT_4\"]].values\n",
    "    for i in (np.array(env.PRT) - np.array([0,0,554])):\n",
    "        if i[2] >= 0:\n",
    "            PRTs[i[2], i[0]] = i[1]\n",
    "    PRTs = np.ceil(PRTs * 1.1)\n",
    "    PRTs = PRTs.astype(int)\n",
    "    submission.loc[:, \"PRT_1\":\"PRT_4\"] = PRTs\n",
    "    submission.to_csv(f\"submission/save_{epoch}.csv\", index=False)"
   ]
  },
  {
   "cell_type": "code",
   "execution_count": 13,
   "metadata": {},
   "outputs": [
    {
     "data": {
      "text/plain": [
       "57613034"
      ]
     },
     "execution_count": 13,
     "metadata": {},
     "output_type": "execute_result"
    }
   ],
   "source": [
    "env.p"
   ]
  },
  {
   "cell_type": "code",
   "execution_count": 14,
   "metadata": {},
   "outputs": [
    {
     "data": {
      "text/plain": [
       "7302459"
      ]
     },
     "execution_count": 14,
     "metadata": {},
     "output_type": "execute_result"
    }
   ],
   "source": [
    "env.q"
   ]
  },
  {
   "cell_type": "code",
   "execution_count": 15,
   "metadata": {},
   "outputs": [
    {
     "data": {
      "text/plain": [
       "285"
      ]
     },
     "execution_count": 15,
     "metadata": {},
     "output_type": "execute_result"
    }
   ],
   "source": [
    "env.c_t"
   ]
  },
  {
   "cell_type": "code",
   "execution_count": 16,
   "metadata": {},
   "outputs": [
    {
     "data": {
      "text/plain": [
       "30"
      ]
     },
     "execution_count": 16,
     "metadata": {},
     "output_type": "execute_result"
    }
   ],
   "source": [
    "env.c_n"
   ]
  },
  {
   "cell_type": "code",
   "execution_count": 17,
   "metadata": {},
   "outputs": [
    {
     "data": {
      "text/plain": [
       "250"
      ]
     },
     "execution_count": 17,
     "metadata": {},
     "output_type": "execute_result"
    }
   ],
   "source": [
    "env.s_t"
   ]
  },
  {
   "cell_type": "code",
   "execution_count": 18,
   "metadata": {},
   "outputs": [
    {
     "data": {
      "text/plain": [
       "0"
      ]
     },
     "execution_count": 18,
     "metadata": {},
     "output_type": "execute_result"
    }
   ],
   "source": [
    "env.s_n"
   ]
  },
  {
   "cell_type": "code",
   "execution_count": null,
   "metadata": {},
   "outputs": [],
   "source": []
  }
 ],
 "metadata": {
  "kernelspec": {
   "display_name": "Python 3",
   "language": "python",
   "name": "python3"
  },
  "language_info": {
   "codemirror_mode": {
    "name": "ipython",
    "version": 3
   },
   "file_extension": ".py",
   "mimetype": "text/x-python",
   "name": "python",
   "nbconvert_exporter": "python",
   "pygments_lexer": "ipython3",
   "version": "3.7.4"
  }
 },
 "nbformat": 4,
 "nbformat_minor": 4
}
