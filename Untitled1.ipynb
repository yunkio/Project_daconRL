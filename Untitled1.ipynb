{
 "cells": [
  {
   "cell_type": "code",
   "execution_count": 1,
   "metadata": {
    "jupyter": {
     "source_hidden": true
    }
   },
   "outputs": [],
   "source": [
    "import numpy as np\n",
    "import pandas as pd"
   ]
  },
  {
   "cell_type": "code",
   "execution_count": 45,
   "metadata": {},
   "outputs": [],
   "source": [
    "order = pd.read_csv(\"data/order.csv\")\n",
    "for i in range(40):\n",
    "    order.loc[91+i,:] = ['0000-00-00', 0, 0, 0, 0]\n",
    "submission = pd.read_csv(\"data/sample_submission.csv\")\n",
    "max_count = pd.read_csv('data/max_count.csv')\n",
    "stock = pd.read_csv(\"data/stock.csv\")\n",
    "cut_yield = pd.read_csv(\"data/cut_yield.csv\")\n",
    "blk_dict = {'BLK_1' : 506, 'BLK_2' : 506, 'BLK_3' : 400, 'BLK_4' : 400}\n",
    "\n",
    "state = []\n",
    "\n"
   ]
  },
  {
   "cell_type": "code",
   "execution_count": null,
   "metadata": {},
   "outputs": [],
   "source": [
    "# 스테이트 정의\n",
    "\n",
    "# 1. 액션 (check, change, process, stop) : 1\n",
    "#     이전 state의 액션에서 가져와야함\n",
    "# 2. process_mode, time(check, change, process, stop), 생산량  : 3\n",
    "#     self.process_mode,\n",
    "#     if 체크 -> 체크타임 등등...\n",
    "#     if process -> 생산량 (if 9 then 6.66 if 10 then 6 등등...)\n",
    "# 3. 재고 PRT 1~4, MOL 1~4, BLK 1~4 (stock에서 가져오기) : 12\n",
    "#     list(self.stock.values)\n",
    "# 4. 수요\n",
    "#     order_len = ?\n",
    "#     order_state = list(self.order.loc[date : date+order_len, 'BLK_1':'BLK_4'].values.flatten())\n",
    "#     order_state_len = len(order_state) * 4"
   ]
  },
  {
   "cell_type": "code",
   "execution_count": null,
   "metadata": {},
   "outputs": [],
   "source": [
    "# Reward 정의\n",
    "\n",
    "# 스코어를 구하는 공식에서 이번 스코어 - 저번 스코어"
   ]
  },
  {
   "cell_type": "code",
   "execution_count": null,
   "metadata": {},
   "outputs": [],
   "source": [
    "# Score 정의\n",
    "# 필요한것\n",
    "# N : 총 수요 (until now)\n",
    "# p : 초과분 합계\n",
    "# q : 부족분 합계\n",
    "# ch_t : 변경시간 합계\n",
    "# ch_n : 변경시간 카운트\n",
    "# s_t : 멈춘시간 합계\n",
    "# s_n : 멈춘횟수 카운트\n",
    "\n",
    "# 이걸 매번 class 차원에서 갱신하도록 하면 계산만 때리면 그만임!!!!!!!!!!!!!!!!!"
   ]
  },
  {
   "cell_type": "code",
   "execution_count": 10,
   "metadata": {},
   "outputs": [
    {
     "data": {
      "text/plain": [
       "['A', 'B', 1]"
      ]
     },
     "execution_count": 10,
     "metadata": {},
     "output_type": "execute_result"
    }
   ],
   "source": [
    "['A', 'B'] + [1]"
   ]
  },
  {
   "cell_type": "code",
   "execution_count": 23,
   "metadata": {},
   "outputs": [],
   "source": [
    "# 환경 init에다가 추가해야할것, 밑에 order_date 등등도 고치자\n",
    "step_count = 1023\n",
    "date = step_count // 24 \n",
    "order_len = 30"
   ]
  },
  {
   "cell_type": "code",
   "execution_count": 44,
   "metadata": {},
   "outputs": [],
   "source": [
    "order_state = list(order.loc[date : date+order_len, 'BLK_1':'BLK_4'].values.flatten())\n",
    "order_state_len = len(order_state) * 4"
   ]
  },
  {
   "cell_type": "code",
   "execution_count": 47,
   "metadata": {},
   "outputs": [
    {
     "data": {
      "text/plain": [
       "array([[    0,   258,     0,     0,  1086,     0,     0,     0, 61158,\n",
       "        87279,     0,     0]], dtype=int64)"
      ]
     },
     "execution_count": 47,
     "metadata": {},
     "output_type": "execute_result"
    }
   ],
   "source": [
    "stock.values"
   ]
  },
  {
   "cell_type": "code",
   "execution_count": null,
   "metadata": {},
   "outputs": [],
   "source": []
  }
 ],
 "metadata": {
  "kernelspec": {
   "display_name": "Python 3",
   "language": "python",
   "name": "python3"
  },
  "language_info": {
   "codemirror_mode": {
    "name": "ipython",
    "version": 3
   },
   "file_extension": ".py",
   "mimetype": "text/x-python",
   "name": "python",
   "nbconvert_exporter": "python",
   "pygments_lexer": "ipython3",
   "version": "3.7.4"
  }
 },
 "nbformat": 4,
 "nbformat_minor": 4
}
