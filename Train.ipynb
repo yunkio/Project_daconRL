{
 "cells": [
  {
   "cell_type": "code",
   "execution_count": 6,
   "metadata": {},
   "outputs": [
    {
     "name": "stderr",
     "output_type": "stream",
     "text": [
      "\n",
      "\n",
      "\n",
      "\n",
      "  0%|                                                                                         | 0/2000 [00:00<?, ?it/s]\n",
      "\n",
      "\n",
      "\n",
      "  0%|                                                                               | 1/2000 [00:05<3:09:26,  5.69s/it]\n",
      "\n",
      "\n",
      "\n",
      "  0%|                                                                               | 2/2000 [00:35<7:11:43, 12.96s/it]\n",
      "\n",
      "\n",
      "\n",
      "  0%|                                                                               | 3/2000 [01:04<9:53:43, 17.84s/it]\n",
      "\n",
      "\n",
      "\n",
      "  0%|▏                                                                             | 4/2000 [01:31<11:25:46, 20.61s/it]\n",
      "\n",
      "\n",
      "\n",
      "  0%|▏                                                                             | 5/2000 [02:02<13:06:31, 23.65s/it]\n",
      "\n",
      "\n",
      "\n",
      "  0%|▏                                                                             | 6/2000 [02:34<14:23:56, 26.00s/it]\n",
      "\n",
      "\n",
      "\n",
      "  0%|▎                                                                             | 7/2000 [03:03<15:01:40, 27.15s/it]\n",
      "\n",
      "\n",
      "\n",
      "  0%|▎                                                                             | 8/2000 [03:32<15:12:00, 27.47s/it]"
     ]
    },
    {
     "ename": "KeyboardInterrupt",
     "evalue": "",
     "output_type": "error",
     "traceback": [
      "\u001b[1;31m---------------------------------------------------------------------------\u001b[0m",
      "\u001b[1;31mKeyboardInterrupt\u001b[0m                         Traceback (most recent call last)",
      "\u001b[1;32m<ipython-input-6-4af1d679bbca>\u001b[0m in \u001b[0;36m<module>\u001b[1;34m\u001b[0m\n\u001b[0;32m     70\u001b[0m         \u001b[1;32mif\u001b[0m \u001b[0mtrain\u001b[0m\u001b[1;33m:\u001b[0m\u001b[1;33m\u001b[0m\u001b[1;33m\u001b[0m\u001b[0m\n\u001b[0;32m     71\u001b[0m             \u001b[0magent\u001b[0m\u001b[1;33m.\u001b[0m\u001b[0mappend_sample\u001b[0m\u001b[1;33m(\u001b[0m\u001b[0mstate\u001b[0m\u001b[1;33m,\u001b[0m \u001b[0maction\u001b[0m\u001b[1;33m,\u001b[0m \u001b[0mreward\u001b[0m\u001b[1;33m,\u001b[0m \u001b[0mnext_state\u001b[0m\u001b[1;33m,\u001b[0m \u001b[0mdone\u001b[0m\u001b[1;33m)\u001b[0m\u001b[1;33m\u001b[0m\u001b[1;33m\u001b[0m\u001b[0m\n\u001b[1;32m---> 72\u001b[1;33m             \u001b[0magent\u001b[0m\u001b[1;33m.\u001b[0m\u001b[0mtrain_model\u001b[0m\u001b[1;33m(\u001b[0m\u001b[1;33m)\u001b[0m\u001b[1;33m\u001b[0m\u001b[1;33m\u001b[0m\u001b[0m\n\u001b[0m\u001b[0;32m     73\u001b[0m             \u001b[0ms\u001b[0m \u001b[1;33m+=\u001b[0m \u001b[0menv\u001b[0m\u001b[1;33m.\u001b[0m\u001b[0mprev_score\u001b[0m\u001b[1;33m\u001b[0m\u001b[1;33m\u001b[0m\u001b[0m\n\u001b[0;32m     74\u001b[0m \u001b[1;33m\u001b[0m\u001b[0m\n",
      "\u001b[1;32mD:\\ykio\\dacon_RL\\agent.py\u001b[0m in \u001b[0;36mtrain_model\u001b[1;34m(self)\u001b[0m\n\u001b[0;32m     93\u001b[0m         \u001b[0mloss\u001b[0m \u001b[1;33m=\u001b[0m \u001b[0mself\u001b[0m\u001b[1;33m.\u001b[0m\u001b[0mloss\u001b[0m\u001b[1;33m(\u001b[0m\u001b[0mq_val\u001b[0m\u001b[1;33m,\u001b[0m \u001b[0mexp_q_val\u001b[0m\u001b[1;33m)\u001b[0m\u001b[1;33m\u001b[0m\u001b[1;33m\u001b[0m\u001b[0m\n\u001b[0;32m     94\u001b[0m         \u001b[0mself\u001b[0m\u001b[1;33m.\u001b[0m\u001b[0moptim\u001b[0m\u001b[1;33m.\u001b[0m\u001b[0mzero_grad\u001b[0m\u001b[1;33m(\u001b[0m\u001b[1;33m)\u001b[0m\u001b[1;33m\u001b[0m\u001b[1;33m\u001b[0m\u001b[0m\n\u001b[1;32m---> 95\u001b[1;33m         \u001b[0mloss\u001b[0m\u001b[1;33m.\u001b[0m\u001b[0mbackward\u001b[0m\u001b[1;33m(\u001b[0m\u001b[1;33m)\u001b[0m\u001b[1;33m\u001b[0m\u001b[1;33m\u001b[0m\u001b[0m\n\u001b[0m\u001b[0;32m     96\u001b[0m         \u001b[0mself\u001b[0m\u001b[1;33m.\u001b[0m\u001b[0moptim\u001b[0m\u001b[1;33m.\u001b[0m\u001b[0mstep\u001b[0m\u001b[1;33m(\u001b[0m\u001b[1;33m)\u001b[0m\u001b[1;33m\u001b[0m\u001b[1;33m\u001b[0m\u001b[0m\n\u001b[0;32m     97\u001b[0m \u001b[1;33m\u001b[0m\u001b[0m\n",
      "\u001b[1;32mD:\\ProgramData\\Anaconda3\\lib\\site-packages\\torch\\tensor.py\u001b[0m in \u001b[0;36mbackward\u001b[1;34m(self, gradient, retain_graph, create_graph)\u001b[0m\n\u001b[0;32m    116\u001b[0m                 \u001b[0mproducts\u001b[0m\u001b[1;33m.\u001b[0m \u001b[0mDefaults\u001b[0m \u001b[0mto\u001b[0m\u001b[0;31m \u001b[0m\u001b[0;31m`\u001b[0m\u001b[0;31m`\u001b[0m\u001b[1;32mFalse\u001b[0m\u001b[0;31m`\u001b[0m\u001b[0;31m`\u001b[0m\u001b[1;33m.\u001b[0m\u001b[1;33m\u001b[0m\u001b[1;33m\u001b[0m\u001b[0m\n\u001b[0;32m    117\u001b[0m         \"\"\"\n\u001b[1;32m--> 118\u001b[1;33m         \u001b[0mtorch\u001b[0m\u001b[1;33m.\u001b[0m\u001b[0mautograd\u001b[0m\u001b[1;33m.\u001b[0m\u001b[0mbackward\u001b[0m\u001b[1;33m(\u001b[0m\u001b[0mself\u001b[0m\u001b[1;33m,\u001b[0m \u001b[0mgradient\u001b[0m\u001b[1;33m,\u001b[0m \u001b[0mretain_graph\u001b[0m\u001b[1;33m,\u001b[0m \u001b[0mcreate_graph\u001b[0m\u001b[1;33m)\u001b[0m\u001b[1;33m\u001b[0m\u001b[1;33m\u001b[0m\u001b[0m\n\u001b[0m\u001b[0;32m    119\u001b[0m \u001b[1;33m\u001b[0m\u001b[0m\n\u001b[0;32m    120\u001b[0m     \u001b[1;32mdef\u001b[0m \u001b[0mregister_hook\u001b[0m\u001b[1;33m(\u001b[0m\u001b[0mself\u001b[0m\u001b[1;33m,\u001b[0m \u001b[0mhook\u001b[0m\u001b[1;33m)\u001b[0m\u001b[1;33m:\u001b[0m\u001b[1;33m\u001b[0m\u001b[1;33m\u001b[0m\u001b[0m\n",
      "\u001b[1;32mD:\\ProgramData\\Anaconda3\\lib\\site-packages\\torch\\autograd\\__init__.py\u001b[0m in \u001b[0;36mbackward\u001b[1;34m(tensors, grad_tensors, retain_graph, create_graph, grad_variables)\u001b[0m\n\u001b[0;32m     91\u001b[0m     Variable._execution_engine.run_backward(\n\u001b[0;32m     92\u001b[0m         \u001b[0mtensors\u001b[0m\u001b[1;33m,\u001b[0m \u001b[0mgrad_tensors\u001b[0m\u001b[1;33m,\u001b[0m \u001b[0mretain_graph\u001b[0m\u001b[1;33m,\u001b[0m \u001b[0mcreate_graph\u001b[0m\u001b[1;33m,\u001b[0m\u001b[1;33m\u001b[0m\u001b[1;33m\u001b[0m\u001b[0m\n\u001b[1;32m---> 93\u001b[1;33m         allow_unreachable=True)  # allow_unreachable flag\n\u001b[0m\u001b[0;32m     94\u001b[0m \u001b[1;33m\u001b[0m\u001b[0m\n\u001b[0;32m     95\u001b[0m \u001b[1;33m\u001b[0m\u001b[0m\n",
      "\u001b[1;31mKeyboardInterrupt\u001b[0m: "
     ]
    },
    {
     "data": {
      "text/plain": [
       "<Figure size 432x288 with 0 Axes>"
      ]
     },
     "metadata": {},
     "output_type": "display_data"
    },
    {
     "data": {
      "text/plain": [
       "<Figure size 1800x432 with 0 Axes>"
      ]
     },
     "metadata": {},
     "output_type": "display_data"
    },
    {
     "data": {
      "text/plain": [
       "<Figure size 1800x432 with 0 Axes>"
      ]
     },
     "metadata": {},
     "output_type": "display_data"
    },
    {
     "data": {
      "text/plain": [
       "<Figure size 1800x432 with 0 Axes>"
      ]
     },
     "metadata": {},
     "output_type": "display_data"
    }
   ],
   "source": [
    "import environment\n",
    "import agent\n",
    "import pandas as pd\n",
    "import numpy as np\n",
    "from matplotlib import pyplot as plt\n",
    "from tqdm import tqdm\n",
    "from time import sleep\n",
    "from util import score_func\n",
    "import random\n",
    "import torch\n",
    "\n",
    "random.seed(77)\n",
    "train = True\n",
    "render = False\n",
    "epoch = 2000 if train else 1\n",
    "agent = agent.DQNAgent(state_size=54, action_size=23, train=train, state_dict=None)\n",
    "# agent = agent.DQNAgent(state_size=139, action_size=23, train=True, state_dict=\"weight/save_1.pth\")\n",
    "avg_score = 0\n",
    "\n",
    "if train:\n",
    "    score_history = []\n",
    "    p_history = []\n",
    "    q_history = []\n",
    "    s_history = []\n",
    "    c_history = []\n",
    "\n",
    "if render:\n",
    "    render_p_history = [] # 시험용\n",
    "    render_q_history = [] # 시험용\n",
    "    render_s_history = [] # 시험용\n",
    "    render_c_history = [] # 시험용\n",
    "    render_score_history = []\n",
    "\n",
    "for i in tqdm(range(epoch)):\n",
    "    env = environment.FactoryEnv()\n",
    "    s = 0\n",
    "    \n",
    "    if train == False:\n",
    "        submission = pd.read_csv(\"data/sample_submission.csv\")\n",
    "        actions = []\n",
    "        process_n = []        \n",
    "\n",
    "    for step in range(2184):       \n",
    "        r = 0\n",
    "        s = 0\n",
    "        state = env.get_state()\n",
    "        mask = agent.get_mask(env)\n",
    "        action = agent.get_action(state,mask)\n",
    "        \n",
    "        if train == False:\n",
    "            if i == epoch-1:\n",
    "                action_name = env.action_map[action]\n",
    "                action_process = 0\n",
    "                if 'PROCESS' in action_name:\n",
    "                    mylist = action_name.split(\"_\")\n",
    "                    action_name = mylist[0]\n",
    "                    action_process = float(mylist[1])                \n",
    "                if 'CHANGE' in action_name:\n",
    "                    action_name = \"CHANGE_\" + str(env.prev_change+1) + str(action-3)\n",
    "                actions.append(action_name)\n",
    "                process_n.append(action_process)\n",
    "      \n",
    "        if render:\n",
    "            render_score_history.append(env.prev_score)\n",
    "            render_p_history.append(score_func(env.p, 32550830) * 100)\n",
    "            render_q_history.append(score_func(env.q, 32550830) * 100)\n",
    "            render_s_history.append(score_func(env.s_t, 2184) / (1 + 0.1*env.s_n) * 100)\n",
    "            render_c_history.append(score_func(env.c_t, 2184) / (1 + 0.1*env.c_n) * 100)\n",
    "            \n",
    "        next_state, reward, done = env.step(action)\n",
    "\n",
    "        if train:\n",
    "            agent.append_sample(state, action, reward, next_state, done)\n",
    "            agent.train_model()\n",
    "            s += env.prev_score\n",
    "\n",
    "        if done:\n",
    "            break\n",
    "            \n",
    "            \n",
    "    if render:\n",
    "        fig = plt.figure()\n",
    "        plt.rcParams[\"figure.figsize\"] = (25,6)\n",
    "        score, = plt.plot(render_score_history, label = 'score')\n",
    "        over, = plt.plot(render_p_history, label = 'over')\n",
    "        under, = plt.plot(render_q_history, label = 'under')\n",
    "        stop, = plt.plot(render_s_history, label = 'stop')\n",
    "        change, = plt.plot(render_c_history, label = 'change')\n",
    "        plt.legend([score, over, under, stop, change], [\"score\", \"over\", \"under\", \"stop\", \"change\"])\n",
    "        plt.savefig(f\"graph/save_render_{env.prev_score}.png\")\n",
    "        plt.clf()\n",
    "        \n",
    "#     if not train:\n",
    "#         aaa = list()\n",
    "#         bbb = list()\n",
    "#         for j in range(4):\n",
    "#             env.J[j].save_graph(f\"performance/performance{j}.png\")\n",
    "#             info = np.array(env.J[j].info)\n",
    "#             t, w, o = info[:, 0], info[:, 1], info[:, 2]\n",
    "#             aaa.append(sum(w)/t[-1])\n",
    "#             bbb.append(sum(o)/t[-1])\n",
    "#         print(sum(aaa)/len(aaa))\n",
    "#         print(sum(bbb)/len(bbb))\n",
    "    \n",
    "    if train:\n",
    "        avg_score = s if avg_score == 0 else avg_score * 0.9 + s * 0.1\n",
    "        score_history.append(env.prev_score)\n",
    "        p_history.append(score_func(env.p, 32550830) * 100) \n",
    "        q_history.append(score_func(env.q, 32550830) * 100) \n",
    "        s_history.append(score_func(env.s_t, 2184) / (1 + 0.1*env.s_n) * 100) \n",
    "        c_history.append(score_func(env.c_t, 2184) / (1 + 0.1*env.c_n) * 100) \n",
    "        if i % 200 == 199:\n",
    "            torch.save(agent.model.state_dict(), f\"weight/save_{i + 1}_{env.prev_score}.pth\")    \n",
    "            \n",
    "            # 그래프 그리기\n",
    "            fig = plt.figure()\n",
    "            plt.rcParams[\"figure.figsize\"] = (25,6)\n",
    "            score, = plt.plot(score_history, label = 'score')\n",
    "            over, = plt.plot(p_history, label = 'over')\n",
    "            under, = plt.plot(q_history, label = 'under')\n",
    "            stop, = plt.plot(s_history, label = 'stop')\n",
    "            change, = plt.plot(c_history, label = 'change')\n",
    "            \n",
    "            plt.legend([score, over, under, stop, change], [\"score\", \"over\", \"under\", \"stop\", \"change\"])\n",
    "            \n",
    "            plt.savefig(f\"graph/save_{i + 1}_{env.prev_score}.png\")\n",
    "            plt.clf()\n",
    "    "
   ]
  },
  {
   "cell_type": "code",
   "execution_count": null,
   "metadata": {},
   "outputs": [],
   "source": [
    "if train == False:\n",
    "    submission.loc[:, \"Event_A\"] = actions\n",
    "    submission.loc[:, \"MOL_A\"] = process_n\n",
    "    submission.loc[:, \"Event_B\"] = actions\n",
    "    submission.loc[:, \"MOL_B\"] = process_n\n",
    "\n",
    "    PRTs = submission[[\"PRT_1\", \"PRT_2\", \"PRT_3\", \"PRT_4\"]].values\n",
    "    for i in (np.array(env.PRT) - np.array([0,0,554])):\n",
    "        if i[2] >= 0:\n",
    "            PRTs[i[2], i[0]] = i[1]\n",
    "    PRTs = np.ceil(PRTs * 1.1)\n",
    "    PRTs = PRTs.astype(int)\n",
    "    submission.loc[:, \"PRT_1\":\"PRT_4\"] = PRTs\n",
    "    submission.to_csv(f\"submission/save_{env.prev_score}.csv\", index=False)    "
   ]
  }
 ],
 "metadata": {
  "kernelspec": {
   "display_name": "Python 3",
   "language": "python",
   "name": "python3"
  },
  "language_info": {
   "codemirror_mode": {
    "name": "ipython",
    "version": 3
   },
   "file_extension": ".py",
   "mimetype": "text/x-python",
   "name": "python",
   "nbconvert_exporter": "python",
   "pygments_lexer": "ipython3",
   "version": "3.7.4"
  }
 },
 "nbformat": 4,
 "nbformat_minor": 4
}
