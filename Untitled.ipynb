{
 "cells": [
  {
   "cell_type": "code",
   "execution_count": 2,
   "metadata": {},
   "outputs": [],
   "source": [
    "import numpy as np\n",
    "import pandas as pd\n",
    "import os\n",
    "from pathlib import Path"
   ]
  },
  {
   "cell_type": "code",
   "execution_count": 54,
   "metadata": {},
   "outputs": [],
   "source": [
    "class FactoryEnv:\n",
    "    def __init__(self):\n",
    "        order = pd.read_csv(\"data/order.csv\")\n",
    "        for i in range(40):\n",
    "            order.loc[91+i,:] = ['0000-00-00', 0, 0, 0, 0]\n",
    "        self.order = order    \n",
    "        self.submission = pd.read_csv(\"data/sample_submission.csv\")\n",
    "        self.max_count = pd.read_csv('data/max_count.csv')\n",
    "        self.stock = pd.read_csv(\"data/stock.csv\")\n",
    "        \n",
    "        \n",
    "        self.total_step = len(submission)\n",
    "        \n",
    "    def save_csv(self):\n",
    "        PRTs = self.submission[[\"PRT_1\", \"PRT_2\", \"PRT_3\", \"PRT_4\"]].values\n",
    "        PRTs = (PRTs[:-1]-PRTs[1:])[24*23:]\n",
    "        PRTs[-1] = [0., 0., 0., 0.]\n",
    "        PRTs = np.ceil(PRTs * 1.1)+1\n",
    "        PAD = np.zeros((24*23+1, 4))\n",
    "        PRTs = np.append(PRTs, PAD, axis=0).astype(int)\n",
    "        self.submission.loc[:, \"PRT_1\":\"PRT_4\"] = PRTs\n",
    "\n",
    "        self.submission.to_csv(\"test.csv\", index=False)    \n",
    "        \n",
    "    def reset(self):\n",
    "        self.stock = np.array(pd.read_csv(\"data/stock.csv\"), dtype=np.float32)[0]\n",
    "        self.step_count = 0\n",
    "\n",
    "#    def step(self, action):\n",
    "        \n",
    "#    def get_reward(self, prev):\n",
    "    \n",
    "#    def get_state(self):"
   ]
  },
  {
   "cell_type": "code",
   "execution_count": 4,
   "metadata": {},
   "outputs": [
    {
     "data": {
      "text/plain": [
       "array([    0.,   258.,     0.,     0.,  1086.,     0.,     0.,     0.,\n",
       "       61158., 87279.,     0.,     0.], dtype=float32)"
      ]
     },
     "execution_count": 4,
     "metadata": {},
     "output_type": "execute_result"
    }
   ],
   "source": [
    "np.array(pd.read_csv(\"data/stock.csv\"), dtype=np.float32)[0]"
   ]
  },
  {
   "cell_type": "code",
   "execution_count": 63,
   "metadata": {},
   "outputs": [
    {
     "data": {
      "text/html": [
       "<div>\n",
       "<style scoped>\n",
       "    .dataframe tbody tr th:only-of-type {\n",
       "        vertical-align: middle;\n",
       "    }\n",
       "\n",
       "    .dataframe tbody tr th {\n",
       "        vertical-align: top;\n",
       "    }\n",
       "\n",
       "    .dataframe thead th {\n",
       "        text-align: right;\n",
       "    }\n",
       "</style>\n",
       "<table border=\"1\" class=\"dataframe\">\n",
       "  <thead>\n",
       "    <tr style=\"text-align: right;\">\n",
       "      <th></th>\n",
       "      <th>PRT_1</th>\n",
       "      <th>PRT_2</th>\n",
       "      <th>PRT_3</th>\n",
       "      <th>PRT_4</th>\n",
       "      <th>MOL_1</th>\n",
       "      <th>MOL_2</th>\n",
       "      <th>MOL_3</th>\n",
       "      <th>MOL_4</th>\n",
       "      <th>BLK_1</th>\n",
       "      <th>BLK_2</th>\n",
       "      <th>BLK_3</th>\n",
       "      <th>BLK_4</th>\n",
       "    </tr>\n",
       "  </thead>\n",
       "  <tbody>\n",
       "    <tr>\n",
       "      <th>0</th>\n",
       "      <td>0</td>\n",
       "      <td>258</td>\n",
       "      <td>0</td>\n",
       "      <td>0</td>\n",
       "      <td>1086</td>\n",
       "      <td>0</td>\n",
       "      <td>0</td>\n",
       "      <td>0</td>\n",
       "      <td>61158</td>\n",
       "      <td>87279</td>\n",
       "      <td>0</td>\n",
       "      <td>0</td>\n",
       "    </tr>\n",
       "  </tbody>\n",
       "</table>\n",
       "</div>"
      ],
      "text/plain": [
       "   PRT_1  PRT_2  PRT_3  PRT_4  MOL_1  MOL_2  MOL_3  MOL_4  BLK_1  BLK_2  \\\n",
       "0      0    258      0      0   1086      0      0      0  61158  87279   \n",
       "\n",
       "   BLK_3  BLK_4  \n",
       "0      0      0  "
      ]
     },
     "execution_count": 63,
     "metadata": {},
     "output_type": "execute_result"
    }
   ],
   "source": [
    "\n",
    "pd.read_csv(\"data/stock.csv\")"
   ]
  },
  {
   "cell_type": "code",
   "execution_count": 64,
   "metadata": {},
   "outputs": [
    {
     "data": {
      "text/plain": [
       "array([    0.,   258.,     0.,     0.,  1086.,     0.,     0.,     0.,\n",
       "       61158., 87279.,     0.,     0.], dtype=float32)"
      ]
     },
     "execution_count": 64,
     "metadata": {},
     "output_type": "execute_result"
    }
   ],
   "source": [
    "np.array(pd.read_csv(\"data/stock.csv\"), dtype=np.float32)[0]"
   ]
  },
  {
   "cell_type": "code",
   "execution_count": 66,
   "metadata": {},
   "outputs": [
    {
     "data": {
      "text/plain": [
       "2184"
      ]
     },
     "execution_count": 66,
     "metadata": {},
     "output_type": "execute_result"
    }
   ],
   "source": [
    "len(submission)"
   ]
  },
  {
   "cell_type": "code",
   "execution_count": null,
   "metadata": {},
   "outputs": [],
   "source": []
  }
 ],
 "metadata": {
  "kernelspec": {
   "display_name": "Python 3",
   "language": "python",
   "name": "python3"
  },
  "language_info": {
   "codemirror_mode": {
    "name": "ipython",
    "version": 3
   },
   "file_extension": ".py",
   "mimetype": "text/x-python",
   "name": "python",
   "nbconvert_exporter": "python",
   "pygments_lexer": "ipython3",
   "version": "3.7.4"
  }
 },
 "nbformat": 4,
 "nbformat_minor": 4
}
